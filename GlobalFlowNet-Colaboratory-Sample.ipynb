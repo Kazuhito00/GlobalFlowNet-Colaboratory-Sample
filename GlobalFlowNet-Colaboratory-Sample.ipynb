{
  "nbformat": 4,
  "nbformat_minor": 0,
  "metadata": {
    "colab": {
      "provenance": [],
      "machine_shape": "hm",
      "gpuType": "T4"
    },
    "kernelspec": {
      "name": "python3",
      "display_name": "Python 3"
    },
    "language_info": {
      "name": "python"
    },
    "accelerator": "GPU"
  },
  "cells": [
    {
      "cell_type": "markdown",
      "source": [
        "# リポジトリクローン"
      ],
      "metadata": {
        "id": "ZwbJq2GrjgDQ"
      }
    },
    {
      "cell_type": "code",
      "execution_count": null,
      "metadata": {
        "id": "8W0rT-ogODje"
      },
      "outputs": [],
      "source": [
        "!git clone https://github.com/GlobalFlowNet/GlobalFlowNet"
      ]
    },
    {
      "cell_type": "code",
      "source": [
        "%cd GlobalFlowNet/Code"
      ],
      "metadata": {
        "id": "5v7dkSadVVGw"
      },
      "execution_count": null,
      "outputs": []
    },
    {
      "cell_type": "markdown",
      "source": [
        "# 必要パッケージインストール"
      ],
      "metadata": {
        "id": "tO1CWgyGjkLh"
      }
    },
    {
      "cell_type": "code",
      "source": [
        "!pip install sk-video"
      ],
      "metadata": {
        "id": "2ty3OfcmWA55"
      },
      "execution_count": null,
      "outputs": []
    },
    {
      "cell_type": "markdown",
      "source": [
        "# サンプル動画ダウンロード"
      ],
      "metadata": {
        "id": "clShZpfajqDt"
      }
    },
    {
      "cell_type": "code",
      "source": [
        "import gdown\n",
        "gdown.download('https://drive.google.com/uc?id=1K9WSa4eOgCEwCVsWXKgdvHiN_kb4g6Qo', 'sample.mp4', quiet=False)"
      ],
      "metadata": {
        "id": "vHYrRSDPjsfn"
      },
      "execution_count": null,
      "outputs": []
    },
    {
      "cell_type": "markdown",
      "source": [
        "# 動画のフレーム長を取得"
      ],
      "metadata": {
        "id": "kuKR5eqskF0t"
      }
    },
    {
      "cell_type": "code",
      "source": [
        "input_path = 'sample.mp4'\n",
        "output_path = 'output.mp4'"
      ],
      "metadata": {
        "id": "BHcbec9U-GDN"
      },
      "execution_count": 5,
      "outputs": []
    },
    {
      "cell_type": "code",
      "source": [
        "import cv2\n",
        "video_capture = cv2.VideoCapture(input_path)\n",
        "total_frame_count = int(video_capture.get(cv2.CAP_PROP_FRAME_COUNT))\n",
        "video_capture.release()\n",
        "print(total_frame_count)"
      ],
      "metadata": {
        "id": "iLNV0iRE-MRZ"
      },
      "execution_count": null,
      "outputs": []
    },
    {
      "cell_type": "markdown",
      "source": [
        "# OptNet準備"
      ],
      "metadata": {
        "id": "J5e6LcSRlxht"
      }
    },
    {
      "cell_type": "code",
      "source": [
        "import json\n",
        "\n",
        "import numpy as np\n",
        "from Utils.VideoUtility import VideoReader, VideoWriter\n",
        "from GlobalFlowNets.GlobalPWCNets import getGlobalPWCModel\n",
        "\n",
        "def getConfig(filePath):\n",
        "    with open(filePath, 'r') as openfile:\n",
        "        config = json.load(openfile)\n",
        "    return config\n",
        "\n",
        "inpVideo = VideoReader(input_path, maxFrames=total_frame_count)\n",
        "outVideo = VideoWriter(output_path, fps=inpVideo.getFPS())\n",
        "\n",
        "Stabilizers = {}\n",
        "Stabilizers['GNetAffine'] = ['GNetAffine']\n",
        "Stabilizers['MSPhotometric'] = ['MSPhotometric']\n",
        "Stabilizers['GNetMSPhotometric'] = ['GNetAffine', 'MSPhotometric']\n",
        "\n",
        "inpTag = 'Original'\n",
        "outTag = 'GNetMSPhotometric'\n",
        "modelTag = 'GLNoWarp4YTBB'\n",
        "\n",
        "config = getConfig('GlobalFlowNets/trainedModels/config.json')['GlobalNetModelParameters']\n",
        "OptNet = getGlobalPWCModel(config, 'GlobalFlowNets/trainedModels/GFlowNet.pth', loadInCPU=True)\n",
        "OptNet = OptNet.eval().cuda()"
      ],
      "metadata": {
        "id": "P_OX69nLmdp4"
      },
      "execution_count": 7,
      "outputs": []
    },
    {
      "cell_type": "markdown",
      "source": [
        "# ComposedStabilizer準備"
      ],
      "metadata": {
        "id": "-8Sa1pCVl6Mx"
      }
    },
    {
      "cell_type": "code",
      "source": [
        "import torch\n",
        "import numpy as np\n",
        "from Stabilizers.MSPhotometric import MSPhotometric\n",
        "from Stabilizers.JoinedAdaptiveGNetStabilizer import JoinedAdaptiveGNetStabilizer\n",
        "\n",
        "class ComposedStabilizer():\n",
        "    def __init__(self, Video, OptNet, stabilizers=[], span=11, cutoffFreq=5, crop=.8):\n",
        "        self.Video = Video\n",
        "        self.span = span\n",
        "        self.frames = torch.from_numpy(np.transpose(Video.getFrames(), (0, 3, 1, 2))) / 255.0\n",
        "        self.shape = [self.frames.shape[-2], self.frames.shape[-1]]\n",
        "        self.optimalSpans = None\n",
        "        self.cropFeild = None\n",
        "\n",
        "        self.stabilizers = []\n",
        "        for stabilizer in stabilizers:\n",
        "            if stabilizer == 'GNetAffine':\n",
        "                AffineStabilizer = JoinedAdaptiveGNetStabilizer(self.frames, OptNet, dSpan=32, crop=crop)\n",
        "                self.stabilizers.append(AffineStabilizer)\n",
        "                self.frames, self.cropFeild = AffineStabilizer.getStabilizedFrames()\n",
        "            elif stabilizer == 'MSPhotometric':\n",
        "                Stabilizer = MSPhotometric(self.frames, OptNet, span=13, cutoffFreq=5)\n",
        "                Stabilizer.stabilizeFrames()\n",
        "\n",
        "    def cvtTensor2Uint8(self, img):\n",
        "        img = np.round(255 * np.transpose(img.numpy(), (1, 2, 0))).astype('uint8')\n",
        "        return img\n",
        "\n",
        "    def getStabilizedFrame(self, idx):\n",
        "        return self.cvtTensor2Uint8(self.frames[idx])"
      ],
      "metadata": {
        "id": "m5oS-m6bnl0D"
      },
      "execution_count": 8,
      "outputs": []
    },
    {
      "cell_type": "markdown",
      "source": [
        "# ブレ補正、動画出力"
      ],
      "metadata": {
        "id": "ZeQmh6f4l7rL"
      }
    },
    {
      "cell_type": "code",
      "source": [
        "maxAffineCrop = 0.8\n",
        "stabilizer = ComposedStabilizer(inpVideo, OptNet, stabilizers=Stabilizers[outTag], crop=maxAffineCrop)\n",
        "\n",
        "for f in range(inpVideo.getNrFrames()):\n",
        "    outFrame = stabilizer.getStabilizedFrame(f)\n",
        "    outVideo.writeFrame(outFrame)\n",
        "outVideo.close()"
      ],
      "metadata": {
        "id": "FXZZm1EZVhm7"
      },
      "execution_count": null,
      "outputs": []
    }
  ]
}